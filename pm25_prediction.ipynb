{
 "cells": [
  {
   "cell_type": "markdown",
   "id": "bfd6cafa",
   "metadata": {},
   "source": [
    "PM2.5 is also known as fine particulate matter, which has a diameter of less than 2.5 microns. It has been previously shown to have both long and short term health effects on humans. Within BC, the PM2.5 concentration is very low during the winter months. However, during the summers, the province often sees heightened concentration due to PM2.5 emitted from wildfires that originated within the province or transported from the United States. "
   ]
  },
  {
   "cell_type": "code",
   "execution_count": 301,
   "id": "7f91c72e",
   "metadata": {},
   "outputs": [
    {
     "data": {
      "text/html": [
       "<div>\n",
       "<style scoped>\n",
       "    .dataframe tbody tr th:only-of-type {\n",
       "        vertical-align: middle;\n",
       "    }\n",
       "\n",
       "    .dataframe tbody tr th {\n",
       "        vertical-align: top;\n",
       "    }\n",
       "\n",
       "    .dataframe thead th {\n",
       "        text-align: right;\n",
       "    }\n",
       "</style>\n",
       "<table border=\"1\" class=\"dataframe\">\n",
       "  <thead>\n",
       "    <tr style=\"text-align: right;\">\n",
       "      <th></th>\n",
       "      <th>Station:Vancouver International Airport #2 -</th>\n",
       "      <th>Date Time</th>\n",
       "      <th>CO</th>\n",
       "      <th>NO</th>\n",
       "      <th>NO2</th>\n",
       "      <th>O3</th>\n",
       "      <th>PM25</th>\n",
       "      <th>SO2</th>\n",
       "      <th>PM10</th>\n",
       "      <th>WSPD_SCLR</th>\n",
       "      <th>WDIR_SCLR</th>\n",
       "      <th>WSPD_VECT</th>\n",
       "      <th>WDIR_VECT</th>\n",
       "      <th>TEMP_MEAN</th>\n",
       "      <th>ATM_PRESS_1HR</th>\n",
       "      <th>HUMIDITY</th>\n",
       "      <th>RAD_TOTAL</th>\n",
       "      <th>PRECIP_TOTAL</th>\n",
       "      <th>NOx</th>\n",
       "    </tr>\n",
       "  </thead>\n",
       "  <tbody>\n",
       "    <tr>\n",
       "      <th>0</th>\n",
       "      <td></td>\n",
       "      <td></td>\n",
       "      <td>ppm</td>\n",
       "      <td>ppb</td>\n",
       "      <td>ppb</td>\n",
       "      <td>ppb</td>\n",
       "      <td>ug/m3</td>\n",
       "      <td>ppb</td>\n",
       "      <td>ug/m3</td>\n",
       "      <td>m/s</td>\n",
       "      <td>Deg.</td>\n",
       "      <td>m/s</td>\n",
       "      <td>Deg.</td>\n",
       "      <td>°C</td>\n",
       "      <td>kPa</td>\n",
       "      <td>% RH</td>\n",
       "      <td>W/M**2</td>\n",
       "      <td>mm</td>\n",
       "      <td>ppb</td>\n",
       "    </tr>\n",
       "    <tr>\n",
       "      <th>1</th>\n",
       "      <td></td>\n",
       "      <td>12/31/2019 24:00 AM</td>\n",
       "      <td>0.29</td>\n",
       "      <td>1.1</td>\n",
       "      <td>18.7</td>\n",
       "      <td>10.5</td>\n",
       "      <td>6.8</td>\n",
       "      <td>0.0</td>\n",
       "      <td>7.0</td>\n",
       "      <td>7.29</td>\n",
       "      <td>92.1</td>\n",
       "      <td>2.59</td>\n",
       "      <td>122.8</td>\n",
       "      <td>8.3</td>\n",
       "      <td>99.9</td>\n",
       "      <td>79.7</td>\n",
       "      <td>0.0</td>\n",
       "      <td>0.0</td>\n",
       "      <td>19.8</td>\n",
       "    </tr>\n",
       "    <tr>\n",
       "      <th>2</th>\n",
       "      <td></td>\n",
       "      <td>1/1/2020 1:00 AM</td>\n",
       "      <td>0.12</td>\n",
       "      <td>0.1</td>\n",
       "      <td>1.9</td>\n",
       "      <td>36.7</td>\n",
       "      <td>0.7</td>\n",
       "      <td>0.3</td>\n",
       "      <td>3.4</td>\n",
       "      <td>4.36</td>\n",
       "      <td>209.3</td>\n",
       "      <td>4.28</td>\n",
       "      <td>209.5</td>\n",
       "      <td>10.6</td>\n",
       "      <td>99.9</td>\n",
       "      <td>78.7</td>\n",
       "      <td>0.0</td>\n",
       "      <td>0.0</td>\n",
       "      <td>2.1</td>\n",
       "    </tr>\n",
       "    <tr>\n",
       "      <th>3</th>\n",
       "      <td></td>\n",
       "      <td>1/1/2020 2:00 AM</td>\n",
       "      <td>0.11</td>\n",
       "      <td>0.1</td>\n",
       "      <td>1.4</td>\n",
       "      <td>38.0</td>\n",
       "      <td>0.8</td>\n",
       "      <td>0.3</td>\n",
       "      <td>0.9</td>\n",
       "      <td>5.55</td>\n",
       "      <td>215.5</td>\n",
       "      <td>5.47</td>\n",
       "      <td>215.6</td>\n",
       "      <td>10.6</td>\n",
       "      <td>99.9</td>\n",
       "      <td>79.7</td>\n",
       "      <td>0.0</td>\n",
       "      <td>0.0</td>\n",
       "      <td>1.5</td>\n",
       "    </tr>\n",
       "    <tr>\n",
       "      <th>4</th>\n",
       "      <td></td>\n",
       "      <td>1/1/2020 3:00 AM</td>\n",
       "      <td>0.11</td>\n",
       "      <td>0.1</td>\n",
       "      <td>1.7</td>\n",
       "      <td>38.3</td>\n",
       "      <td>1.0</td>\n",
       "      <td>0.3</td>\n",
       "      <td>3.5</td>\n",
       "      <td>4.24</td>\n",
       "      <td>221.7</td>\n",
       "      <td>4.15</td>\n",
       "      <td>221.2</td>\n",
       "      <td>10.0</td>\n",
       "      <td>100.0</td>\n",
       "      <td>78.8</td>\n",
       "      <td>0.0</td>\n",
       "      <td>0.4</td>\n",
       "      <td>1.8</td>\n",
       "    </tr>\n",
       "  </tbody>\n",
       "</table>\n",
       "</div>"
      ],
      "text/plain": [
       "  Station:Vancouver International Airport #2 -     Date Time                   \\\n",
       "0                                                                               \n",
       "1                                                  12/31/2019 24:00 AM          \n",
       "2                                                  1/1/2020 1:00 AM             \n",
       "3                                                  1/1/2020 2:00 AM             \n",
       "4                                                  1/1/2020 3:00 AM             \n",
       "\n",
       "    CO          NO          NO2         O3          PM25        SO2        \\\n",
       "0   ppm         ppb         ppb         ppb         ug/m3       ppb         \n",
       "1   0.29        1.1         18.7        10.5        6.8         0.0         \n",
       "2   0.12        0.1         1.9         36.7        0.7         0.3         \n",
       "3   0.11        0.1         1.4         38.0        0.8         0.3         \n",
       "4   0.11        0.1         1.7         38.3        1.0         0.3         \n",
       "\n",
       "    PM10       WSPD_SCLR   WDIR_SCLR   WSPD_VECT   WDIR_VECT   TEMP_MEAN   \\\n",
       "0   ug/m3       m/s         Deg.        m/s         Deg.        °C          \n",
       "1   7.0         7.29        92.1        2.59        122.8       8.3         \n",
       "2   3.4         4.36        209.3       4.28        209.5       10.6        \n",
       "3   0.9         5.55        215.5       5.47        215.6       10.6        \n",
       "4   3.5         4.24        221.7       4.15        221.2       10.0        \n",
       "\n",
       "   ATM_PRESS_1HR    HUMIDITY   RAD_TOTAL   PRECIP_TOTAL    NOx       \n",
       "0       kPa         % RH        W/M**2         mm          ppb       \n",
       "1       99.9        79.7        0.0            0.0         19.8      \n",
       "2       99.9        78.7        0.0            0.0         2.1       \n",
       "3       99.9        79.7        0.0            0.0         1.5       \n",
       "4       100.0       78.8        0.0            0.4         1.8       "
      ]
     },
     "execution_count": 301,
     "metadata": {},
     "output_type": "execute_result"
    }
   ],
   "source": [
    "import pandas as pd\n",
    "\n",
    "# Data downloaded from https://envistaweb.env.gov.bc.ca/\n",
    "# This is data taken at Vancouver International Airport #2\n",
    "pm25 = pd.read_csv('StationData.csv')\n",
    "pm25.head(5)\n",
    "## remove the first column and first row"
   ]
  },
  {
   "cell_type": "code",
   "execution_count": 302,
   "id": "ec377f3a",
   "metadata": {
    "scrolled": false
   },
   "outputs": [
    {
     "data": {
      "text/html": [
       "<div>\n",
       "<style scoped>\n",
       "    .dataframe tbody tr th:only-of-type {\n",
       "        vertical-align: middle;\n",
       "    }\n",
       "\n",
       "    .dataframe tbody tr th {\n",
       "        vertical-align: top;\n",
       "    }\n",
       "\n",
       "    .dataframe thead th {\n",
       "        text-align: right;\n",
       "    }\n",
       "</style>\n",
       "<table border=\"1\" class=\"dataframe\">\n",
       "  <thead>\n",
       "    <tr style=\"text-align: right;\">\n",
       "      <th></th>\n",
       "      <th>DateTime</th>\n",
       "      <th>CO</th>\n",
       "      <th>NO</th>\n",
       "      <th>NO2</th>\n",
       "      <th>O3</th>\n",
       "      <th>PM25</th>\n",
       "      <th>SO2</th>\n",
       "      <th>PM10</th>\n",
       "      <th>WSPD_SCLR</th>\n",
       "      <th>WDIR_SCLR</th>\n",
       "      <th>WSPD_VECT</th>\n",
       "      <th>WDIR_VECT</th>\n",
       "      <th>TEMP_MEAN</th>\n",
       "      <th>ATM_PRESS_1HR</th>\n",
       "      <th>HUMIDITY</th>\n",
       "      <th>RAD_TOTAL</th>\n",
       "      <th>PRECIP_TOTAL</th>\n",
       "      <th>NOx</th>\n",
       "    </tr>\n",
       "  </thead>\n",
       "  <tbody>\n",
       "    <tr>\n",
       "      <th>1</th>\n",
       "      <td>12/31/2019 24:00 AM</td>\n",
       "      <td>0.29</td>\n",
       "      <td>1.1</td>\n",
       "      <td>18.7</td>\n",
       "      <td>10.5</td>\n",
       "      <td>6.8</td>\n",
       "      <td>0.0</td>\n",
       "      <td>7.0</td>\n",
       "      <td>7.29</td>\n",
       "      <td>92.1</td>\n",
       "      <td>2.59</td>\n",
       "      <td>122.8</td>\n",
       "      <td>8.3</td>\n",
       "      <td>99.9</td>\n",
       "      <td>79.7</td>\n",
       "      <td>0.0</td>\n",
       "      <td>0.0</td>\n",
       "      <td>19.8</td>\n",
       "    </tr>\n",
       "    <tr>\n",
       "      <th>2</th>\n",
       "      <td>1/1/2020 1:00 AM</td>\n",
       "      <td>0.12</td>\n",
       "      <td>0.1</td>\n",
       "      <td>1.9</td>\n",
       "      <td>36.7</td>\n",
       "      <td>0.7</td>\n",
       "      <td>0.3</td>\n",
       "      <td>3.4</td>\n",
       "      <td>4.36</td>\n",
       "      <td>209.3</td>\n",
       "      <td>4.28</td>\n",
       "      <td>209.5</td>\n",
       "      <td>10.6</td>\n",
       "      <td>99.9</td>\n",
       "      <td>78.7</td>\n",
       "      <td>0.0</td>\n",
       "      <td>0.0</td>\n",
       "      <td>2.1</td>\n",
       "    </tr>\n",
       "    <tr>\n",
       "      <th>3</th>\n",
       "      <td>1/1/2020 2:00 AM</td>\n",
       "      <td>0.11</td>\n",
       "      <td>0.1</td>\n",
       "      <td>1.4</td>\n",
       "      <td>38.0</td>\n",
       "      <td>0.8</td>\n",
       "      <td>0.3</td>\n",
       "      <td>0.9</td>\n",
       "      <td>5.55</td>\n",
       "      <td>215.5</td>\n",
       "      <td>5.47</td>\n",
       "      <td>215.6</td>\n",
       "      <td>10.6</td>\n",
       "      <td>99.9</td>\n",
       "      <td>79.7</td>\n",
       "      <td>0.0</td>\n",
       "      <td>0.0</td>\n",
       "      <td>1.5</td>\n",
       "    </tr>\n",
       "    <tr>\n",
       "      <th>4</th>\n",
       "      <td>1/1/2020 3:00 AM</td>\n",
       "      <td>0.11</td>\n",
       "      <td>0.1</td>\n",
       "      <td>1.7</td>\n",
       "      <td>38.3</td>\n",
       "      <td>1.0</td>\n",
       "      <td>0.3</td>\n",
       "      <td>3.5</td>\n",
       "      <td>4.24</td>\n",
       "      <td>221.7</td>\n",
       "      <td>4.15</td>\n",
       "      <td>221.2</td>\n",
       "      <td>10.0</td>\n",
       "      <td>100.0</td>\n",
       "      <td>78.8</td>\n",
       "      <td>0.0</td>\n",
       "      <td>0.4</td>\n",
       "      <td>1.8</td>\n",
       "    </tr>\n",
       "    <tr>\n",
       "      <th>5</th>\n",
       "      <td>1/1/2020 4:00 AM</td>\n",
       "      <td>0.11</td>\n",
       "      <td>0.1</td>\n",
       "      <td>2.1</td>\n",
       "      <td>39.3</td>\n",
       "      <td>1.1</td>\n",
       "      <td>0.4</td>\n",
       "      <td>2.2</td>\n",
       "      <td>2.72</td>\n",
       "      <td>280.5</td>\n",
       "      <td>2.57</td>\n",
       "      <td>277.8</td>\n",
       "      <td>9.1</td>\n",
       "      <td>100.0</td>\n",
       "      <td>82.0</td>\n",
       "      <td>0.0</td>\n",
       "      <td>0.0</td>\n",
       "      <td>2.1</td>\n",
       "    </tr>\n",
       "  </tbody>\n",
       "</table>\n",
       "</div>"
      ],
      "text/plain": [
       "                      DateTime          CO          NO         NO2  \\\n",
       "1   12/31/2019 24:00 AM          0.29        1.1         18.7        \n",
       "2   1/1/2020 1:00 AM             0.12        0.1         1.9         \n",
       "3   1/1/2020 2:00 AM             0.11        0.1         1.4         \n",
       "4   1/1/2020 3:00 AM             0.11        0.1         1.7         \n",
       "5   1/1/2020 4:00 AM             0.11        0.1         2.1         \n",
       "\n",
       "           O3        PM25         SO2        PM10   WSPD_SCLR   WDIR_SCLR  \\\n",
       "1   10.5        6.8         0.0         7.0         7.29        92.1        \n",
       "2   36.7        0.7         0.3         3.4         4.36        209.3       \n",
       "3   38.0        0.8         0.3         0.9         5.55        215.5       \n",
       "4   38.3        1.0         0.3         3.5         4.24        221.7       \n",
       "5   39.3        1.1         0.4         2.2         2.72        280.5       \n",
       "\n",
       "    WSPD_VECT   WDIR_VECT   TEMP_MEAN ATM_PRESS_1HR    HUMIDITY   RAD_TOTAL  \\\n",
       "1   2.59        122.8       8.3           99.9        79.7        0.0         \n",
       "2   4.28        209.5       10.6          99.9        78.7        0.0         \n",
       "3   5.47        215.6       10.6          99.9        79.7        0.0         \n",
       "4   4.15        221.2       10.0          100.0       78.8        0.0         \n",
       "5   2.57        277.8       9.1           100.0       82.0        0.0         \n",
       "\n",
       "  PRECIP_TOTAL        NOx  \n",
       "1    0.0         19.8      \n",
       "2    0.0         2.1       \n",
       "3    0.0         1.5       \n",
       "4    0.4         1.8       \n",
       "5    0.0         2.1       "
      ]
     },
     "execution_count": 302,
     "metadata": {},
     "output_type": "execute_result"
    }
   ],
   "source": [
    "pm25.tail(10)\n",
    "### Need to remove rows 8786-8793s\n",
    "pm25 = pm25.iloc[1:, 1:] # removing first row and first column\n",
    "pm25.columns = pm25.columns.str.replace(\" \", \"\")\n",
    "pm25 = pm25.iloc[:-8, :] # removing last 8 rows\n",
    "pm25.head()"
   ]
  },
  {
   "cell_type": "code",
   "execution_count": 303,
   "id": "0173e6cb",
   "metadata": {},
   "outputs": [
    {
     "data": {
      "text/plain": [
       "' 0.12     '"
      ]
     },
     "execution_count": 303,
     "metadata": {},
     "output_type": "execute_result"
    }
   ],
   "source": [
    "pm25.iloc[1,1]"
   ]
  },
  {
   "cell_type": "markdown",
   "id": "32ad8ed6",
   "metadata": {},
   "source": [
    "There are whitespaces in all rows because they are string so I will need to strip whitespace in all row"
   ]
  },
  {
   "cell_type": "code",
   "execution_count": 304,
   "id": "760b751c",
   "metadata": {},
   "outputs": [],
   "source": [
    "pm25.dtypes\n",
    "pm25 = pm25.apply(lambda x: x.str.strip() if x.dtype == \"object\" else x) ## strip whitespace in all rows"
   ]
  },
  {
   "cell_type": "markdown",
   "id": "274a0671",
   "metadata": {},
   "source": [
    "I need to reformat the time in DateTime since it's using a combination of 24-hour and 12-hour clock. I need to change 24 AM to 12 AM. Then I will convert DateTime from type object to DateTime object"
   ]
  },
  {
   "cell_type": "code",
   "execution_count": 305,
   "id": "1104e0c9",
   "metadata": {
    "scrolled": true
   },
   "outputs": [
    {
     "data": {
      "text/plain": [
       "1     12/31/2019 12 AM\n",
       "2        1/1/2020 1 AM\n",
       "3        1/1/2020 2 AM\n",
       "4        1/1/2020 3 AM\n",
       "5        1/1/2020 4 AM\n",
       "6        1/1/2020 5 AM\n",
       "7        1/1/2020 6 AM\n",
       "8        1/1/2020 7 AM\n",
       "9        1/1/2020 8 AM\n",
       "10       1/1/2020 9 AM\n",
       "11      1/1/2020 10 AM\n",
       "12      1/1/2020 11 AM\n",
       "13      1/1/2020 12 PM\n",
       "14       1/1/2020 1 PM\n",
       "15       1/1/2020 2 PM\n",
       "16       1/1/2020 3 PM\n",
       "17       1/1/2020 4 PM\n",
       "18       1/1/2020 5 PM\n",
       "19       1/1/2020 6 PM\n",
       "20       1/1/2020 7 PM\n",
       "21       1/1/2020 8 PM\n",
       "22       1/1/2020 9 PM\n",
       "23      1/1/2020 10 PM\n",
       "24      1/1/2020 11 PM\n",
       "25      1/1/2020 12 AM\n",
       "26       1/2/2020 1 AM\n",
       "Name: DateTime, dtype: object"
      ]
     },
     "execution_count": 305,
     "metadata": {},
     "output_type": "execute_result"
    }
   ],
   "source": [
    "pm25['DateTime'] = pm25['DateTime'].str.replace(':00', \"\")\n",
    "pm25.head()\n",
    "pm25['DateTime'] = pm25['DateTime'].str.replace('24 AM', \"12 AM\")\n",
    "pm25['DateTime'][0:26]"
   ]
  },
  {
   "cell_type": "code",
   "execution_count": 307,
   "id": "b328ba82",
   "metadata": {},
   "outputs": [],
   "source": [
    "pm25['DateTime'] = pd.to_datetime(pm25['DateTime'], format=\"%m/%d/%Y %I %p\")"
   ]
  },
  {
   "cell_type": "markdown",
   "id": "1ed49411",
   "metadata": {},
   "source": [
    "Then convert all other rows into numeric"
   ]
  },
  {
   "cell_type": "code",
   "execution_count": 311,
   "id": "4e10dc16",
   "metadata": {
    "scrolled": true
   },
   "outputs": [
    {
     "data": {
      "text/plain": [
       "DateTime         datetime64[ns]\n",
       "CO                      float64\n",
       "NO                      float64\n",
       "NO2                     float64\n",
       "O3                      float64\n",
       "PM25                    float64\n",
       "SO2                     float64\n",
       "PM10                    float64\n",
       "WSPD_SCLR               float64\n",
       "WDIR_SCLR               float64\n",
       "WSPD_VECT               float64\n",
       "WDIR_VECT               float64\n",
       "TEMP_MEAN               float64\n",
       "ATM_PRESS_1HR           float64\n",
       "HUMIDITY                float64\n",
       "RAD_TOTAL               float64\n",
       "PRECIP_TOTAL            float64\n",
       "NOx                     float64\n",
       "dtype: object"
      ]
     },
     "execution_count": 311,
     "metadata": {},
     "output_type": "execute_result"
    }
   ],
   "source": [
    "pm25.iloc[:, 1:] = pm25.iloc[:, 1:].apply(pd.to_numeric)\n",
    "pm25.reset_index(drop=True, inplace =True)\n",
    "pm25.dtypes"
   ]
  },
  {
   "cell_type": "markdown",
   "id": "eb7c94ae",
   "metadata": {},
   "source": [
    "Then I plot the time series of PM2.5 since it's the variable that I want to predict"
   ]
  },
  {
   "cell_type": "code",
   "execution_count": 313,
   "id": "c2e0f548",
   "metadata": {
    "scrolled": true
   },
   "outputs": [
    {
     "data": {
      "text/plain": [
       "[<matplotlib.lines.Line2D at 0x2056a7c2370>]"
      ]
     },
     "execution_count": 313,
     "metadata": {},
     "output_type": "execute_result"
    },
    {
     "data": {
      "image/png": "[encoded data removed]",
      "text/plain": [
       "<Figure size 720x720 with 1 Axes>"
      ]
     },
     "metadata": {},
     "output_type": "display_data"
    }
   ],
   "source": [
    "import matplotlib.pyplot as plt\n",
    "dates = pm25['DateTime']\n",
    "plt.plot(dates, pm25['PM25']) ### plot timeseries - there's a peak of episode in early September"
   ]
  },
  {
   "cell_type": "markdown",
   "id": "49a41942",
   "metadata": {},
   "source": [
    "Looking at the the pattern, seems like month might play a role as summers tend to have wildfires which contribute to PM2.5 concentration. Thus, I will add month as a column to the data frame. Then I remove any NA values and look at the summary statistics. I will reset index since I was dropping rows before"
   ]
  },
  {
   "cell_type": "code",
   "execution_count": 316,
   "id": "3df29c20",
   "metadata": {},
   "outputs": [],
   "source": [
    "pm25['month'] = pd.DatetimeIndex(pm25['DateTime']).month\n",
    "pm25 = pm25.dropna()\n",
    "pm25.describe()\n",
    "pm25 = pm25.reset_index()"
   ]
  },
  {
   "cell_type": "code",
   "execution_count": 274,
   "id": "9536a67c",
   "metadata": {},
   "outputs": [],
   "source": [
    "import numpy as np\n",
    "\n",
    "# Prepping arrays for training and testing\n",
    "#response_var are the values we want to predict\n",
    "\n",
    "response_var = np.array(pm25['PM25'])\n",
    "\n",
    "df_of_predictors = pm25.drop(['DateTime', 'PM25'], axis = 1)\n",
    "\n",
    "predictors_list = pm25.drop(['DateTime', 'PM25'], axis = 1)\n",
    "predictors_list = list(predictors_list.columns)\n",
    "\n",
    "### conver to np array\n",
    "predictors_array = np.array(df_of_predictors)\n",
    "predictors_array"
   ]
  },
  {
   "cell_type": "code",
   "execution_count": 275,
   "id": "f3f23a44",
   "metadata": {},
   "outputs": [],
   "source": [
    "from sklearn.model_selection import train_test_split\n",
    "\n",
    "train_idx, test_idx, train_response_var, test_response_var = train_test_split(pm25.index, response_var, test_size = 0.25, random_state = 42)\n",
    "train_predictors = predictors_array[train_idx]\n",
    "test_predicts = predictors_array[test_idx]\n"
   ]
  },
  {
   "cell_type": "code",
   "execution_count": 276,
   "id": "62eacd6e",
   "metadata": {},
   "outputs": [
    {
     "name": "stdout",
     "output_type": "stream",
     "text": [
      "Training predictors shape: (6249, 17)\n",
      "Training labels shape: (6249,)\n",
      "Testing predictors Shape: (2084,)\n",
      "Testing Labels Shape: (2084,)\n"
     ]
    }
   ],
   "source": [
    "print('Training predictors shape:', train_predictors.shape)\n",
    "print('Training labels shape:', train_response_var.shape)\n",
    "print('Testing predictors Shape:', test_predictors.shape)\n",
    "print('Testing Labels Shape:', test_response_var.shape)"
   ]
  },
  {
   "cell_type": "code",
   "execution_count": 277,
   "id": "b36b6c4b",
   "metadata": {},
   "outputs": [
    {
     "data": {
      "text/plain": [
       "RandomForestRegressor(n_estimators=1000, random_state=42)"
      ]
     },
     "execution_count": 277,
     "metadata": {},
     "output_type": "execute_result"
    }
   ],
   "source": [
    "from sklearn.ensemble import RandomForestRegressor\n",
    "\n",
    "rf = RandomForestRegressor(n_estimators = 1000, random_state = 42)\n",
    "rf.fit(train_predictors, train_response_var)"
   ]
  },
  {
   "cell_type": "code",
   "execution_count": 278,
   "id": "7cdabc10",
   "metadata": {},
   "outputs": [
    {
     "data": {
      "text/plain": [
       "<BarContainer object of 17 artists>"
      ]
     },
     "execution_count": 278,
     "metadata": {},
     "output_type": "execute_result"
    },
    {
     "data": {
      "image/png": "[encoded data removed]",
      "text/plain": [
       "<Figure size 720x720 with 1 Axes>"
      ]
     },
     "metadata": {},
     "output_type": "display_data"
    }
   ],
   "source": [
    "sorted_idx = rf.feature_importances_.argsort()\n",
    "predictors_list = np.array(predictors_list)\n",
    "plt.barh(predictors_list[sorted_idx], rf.feature_importances_[sorted_idx])\n",
    "## Plot of variable of importance"
   ]
  },
  {
   "cell_type": "markdown",
   "id": "a41a839d",
   "metadata": {},
   "source": [
    "From the plot of variable importance, PM10 is a major predictor which makes sense because when there are extreme smoke events, both PM2.5 and PM10 are emitted. "
   ]
  },
  {
   "cell_type": "code",
   "execution_count": 279,
   "id": "b54cc972",
   "metadata": {},
   "outputs": [],
   "source": [
    "predictions = rf.predict(test_predicts)## get predictions"
   ]
  },
  {
   "cell_type": "code",
   "execution_count": 280,
   "id": "9ae801a7",
   "metadata": {},
   "outputs": [
    {
     "name": "stdout",
     "output_type": "stream",
     "text": [
      "MAE:  1.5225612284069112\n",
      "RMSE:  9.35553910877159\n",
      "R^2:  0.9545032388689879\n"
     ]
    }
   ],
   "source": [
    "from sklearn import metrics\n",
    "mae = metrics.mean_absolute_error(test_response_var, predictions)\n",
    "rmse = metrics.mean_squared_error(test_response_var, predictions)\n",
    "r2 = metrics.r2_score(test_response_var, predictions)\n",
    "print('MAE: ', mae)\n",
    "print('RMSE: ', rmse) ### a lot of large errors\n",
    "print('R^2: ', r2) ### \n"
   ]
  },
  {
   "cell_type": "code",
   "execution_count": 281,
   "id": "c3b6b286",
   "metadata": {},
   "outputs": [
    {
     "data": {
      "image/png": "[encoded data removed]",
      "text/plain": [
       "<Figure size 720x720 with 1 Axes>"
      ]
     },
     "metadata": {},
     "output_type": "display_data"
    }
   ],
   "source": [
    "import datetime\n",
    "actual_df = pd.DataFrame(data = {'date': pm25['DateTime'],\n",
    "                                'true_val': pm25['PM25']})\n",
    "pred_df = pd.DataFrame(data = {'date': pm25['DateTime'][test_idx],\n",
    "                                'pred': predictions_w_month})\n",
    "plt.rcParams['figure.figsize'] = [10, 10]\n",
    "plt.plot(actual_df['date'], actual_df['true_val'], 'b-', label = 'Actual')\n",
    "plt.plot(pred_df['date'], pred_df['pred'], 'ro', label = 'Prediction')\n",
    "plt.legend()\n",
    "# Graph labels\n",
    "plt.xlabel('Date'); plt.ylabel('Maximum Temperature (F)'); plt.title('Actual and Predicted Values');\n"
   ]
  }
 ],
 "metadata": {
  "kernelspec": {
   "display_name": "Python 3",
   "language": "python",
   "name": "python3"
  },
  "language_info": {
   "codemirror_mode": {
    "name": "ipython",
    "version": 3
   },
   "file_extension": ".py",
   "mimetype": "text/x-python",
   "name": "python",
   "nbconvert_exporter": "python",
   "pygments_lexer": "ipython3",
   "version": "3.9.5"
  }
 },
 "nbformat": 4,
 "nbformat_minor": 5
}
